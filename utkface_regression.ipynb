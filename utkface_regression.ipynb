{
  "cells": [
    {
      "cell_type": "code",
      "execution_count": 2,
      "metadata": {
        "colab": {
          "base_uri": "https://localhost:8080/"
        },
        "collapsed": true,
        "id": "xmvsLD0XWv8g",
        "outputId": "1ed8e4c4-3ffc-4209-bb1b-ad957e77234e"
      },
      "outputs": [
        {
          "output_type": "stream",
          "name": "stdout",
          "text": [
            "Collecting datasets\n",
            "  Downloading datasets-3.5.1-py3-none-any.whl.metadata (19 kB)\n",
            "Requirement already satisfied: filelock in /usr/local/lib/python3.11/dist-packages (from datasets) (3.18.0)\n",
            "Requirement already satisfied: numpy>=1.17 in /usr/local/lib/python3.11/dist-packages (from datasets) (2.0.2)\n",
            "Requirement already satisfied: pyarrow>=15.0.0 in /usr/local/lib/python3.11/dist-packages (from datasets) (18.1.0)\n",
            "Collecting dill<0.3.9,>=0.3.0 (from datasets)\n",
            "  Downloading dill-0.3.8-py3-none-any.whl.metadata (10 kB)\n",
            "Requirement already satisfied: pandas in /usr/local/lib/python3.11/dist-packages (from datasets) (2.2.2)\n",
            "Requirement already satisfied: requests>=2.32.2 in /usr/local/lib/python3.11/dist-packages (from datasets) (2.32.3)\n",
            "Requirement already satisfied: tqdm>=4.66.3 in /usr/local/lib/python3.11/dist-packages (from datasets) (4.67.1)\n",
            "Collecting xxhash (from datasets)\n",
            "  Downloading xxhash-3.5.0-cp311-cp311-manylinux_2_17_x86_64.manylinux2014_x86_64.whl.metadata (12 kB)\n",
            "Collecting multiprocess<0.70.17 (from datasets)\n",
            "  Downloading multiprocess-0.70.16-py311-none-any.whl.metadata (7.2 kB)\n",
            "Collecting fsspec<=2025.3.0,>=2023.1.0 (from fsspec[http]<=2025.3.0,>=2023.1.0->datasets)\n",
            "  Downloading fsspec-2025.3.0-py3-none-any.whl.metadata (11 kB)\n",
            "Requirement already satisfied: aiohttp in /usr/local/lib/python3.11/dist-packages (from datasets) (3.11.15)\n",
            "Requirement already satisfied: huggingface-hub>=0.24.0 in /usr/local/lib/python3.11/dist-packages (from datasets) (0.30.2)\n",
            "Requirement already satisfied: packaging in /usr/local/lib/python3.11/dist-packages (from datasets) (24.2)\n",
            "Requirement already satisfied: pyyaml>=5.1 in /usr/local/lib/python3.11/dist-packages (from datasets) (6.0.2)\n",
            "Requirement already satisfied: aiohappyeyeballs>=2.3.0 in /usr/local/lib/python3.11/dist-packages (from aiohttp->datasets) (2.6.1)\n",
            "Requirement already satisfied: aiosignal>=1.1.2 in /usr/local/lib/python3.11/dist-packages (from aiohttp->datasets) (1.3.2)\n",
            "Requirement already satisfied: attrs>=17.3.0 in /usr/local/lib/python3.11/dist-packages (from aiohttp->datasets) (25.3.0)\n",
            "Requirement already satisfied: frozenlist>=1.1.1 in /usr/local/lib/python3.11/dist-packages (from aiohttp->datasets) (1.6.0)\n",
            "Requirement already satisfied: multidict<7.0,>=4.5 in /usr/local/lib/python3.11/dist-packages (from aiohttp->datasets) (6.4.3)\n",
            "Requirement already satisfied: propcache>=0.2.0 in /usr/local/lib/python3.11/dist-packages (from aiohttp->datasets) (0.3.1)\n",
            "Requirement already satisfied: yarl<2.0,>=1.17.0 in /usr/local/lib/python3.11/dist-packages (from aiohttp->datasets) (1.20.0)\n",
            "Requirement already satisfied: typing-extensions>=3.7.4.3 in /usr/local/lib/python3.11/dist-packages (from huggingface-hub>=0.24.0->datasets) (4.13.2)\n",
            "Requirement already satisfied: charset-normalizer<4,>=2 in /usr/local/lib/python3.11/dist-packages (from requests>=2.32.2->datasets) (3.4.1)\n",
            "Requirement already satisfied: idna<4,>=2.5 in /usr/local/lib/python3.11/dist-packages (from requests>=2.32.2->datasets) (3.10)\n",
            "Requirement already satisfied: urllib3<3,>=1.21.1 in /usr/local/lib/python3.11/dist-packages (from requests>=2.32.2->datasets) (2.4.0)\n",
            "Requirement already satisfied: certifi>=2017.4.17 in /usr/local/lib/python3.11/dist-packages (from requests>=2.32.2->datasets) (2025.4.26)\n",
            "Requirement already satisfied: python-dateutil>=2.8.2 in /usr/local/lib/python3.11/dist-packages (from pandas->datasets) (2.9.0.post0)\n",
            "Requirement already satisfied: pytz>=2020.1 in /usr/local/lib/python3.11/dist-packages (from pandas->datasets) (2025.2)\n",
            "Requirement already satisfied: tzdata>=2022.7 in /usr/local/lib/python3.11/dist-packages (from pandas->datasets) (2025.2)\n",
            "Requirement already satisfied: six>=1.5 in /usr/local/lib/python3.11/dist-packages (from python-dateutil>=2.8.2->pandas->datasets) (1.17.0)\n",
            "Downloading datasets-3.5.1-py3-none-any.whl (491 kB)\n",
            "\u001b[2K   \u001b[90m━━━━━━━━━━━━━━━━━━━━━━━━━━━━━━━━━━━━━━━━\u001b[0m \u001b[32m491.4/491.4 kB\u001b[0m \u001b[31m13.2 MB/s\u001b[0m eta \u001b[36m0:00:00\u001b[0m\n",
            "\u001b[?25hDownloading dill-0.3.8-py3-none-any.whl (116 kB)\n",
            "\u001b[2K   \u001b[90m━━━━━━━━━━━━━━━━━━━━━━━━━━━━━━━━━━━━━━━━\u001b[0m \u001b[32m116.3/116.3 kB\u001b[0m \u001b[31m9.0 MB/s\u001b[0m eta \u001b[36m0:00:00\u001b[0m\n",
            "\u001b[?25hDownloading fsspec-2025.3.0-py3-none-any.whl (193 kB)\n",
            "\u001b[2K   \u001b[90m━━━━━━━━━━━━━━━━━━━━━━━━━━━━━━━━━━━━━━━━\u001b[0m \u001b[32m193.6/193.6 kB\u001b[0m \u001b[31m13.9 MB/s\u001b[0m eta \u001b[36m0:00:00\u001b[0m\n",
            "\u001b[?25hDownloading multiprocess-0.70.16-py311-none-any.whl (143 kB)\n",
            "\u001b[2K   \u001b[90m━━━━━━━━━━━━━━━━━━━━━━━━━━━━━━━━━━━━━━━━\u001b[0m \u001b[32m143.5/143.5 kB\u001b[0m \u001b[31m10.4 MB/s\u001b[0m eta \u001b[36m0:00:00\u001b[0m\n",
            "\u001b[?25hDownloading xxhash-3.5.0-cp311-cp311-manylinux_2_17_x86_64.manylinux2014_x86_64.whl (194 kB)\n",
            "\u001b[2K   \u001b[90m━━━━━━━━━━━━━━━━━━━━━━━━━━━━━━━━━━━━━━━━\u001b[0m \u001b[32m194.8/194.8 kB\u001b[0m \u001b[31m16.1 MB/s\u001b[0m eta \u001b[36m0:00:00\u001b[0m\n",
            "\u001b[?25hInstalling collected packages: xxhash, fsspec, dill, multiprocess, datasets\n",
            "  Attempting uninstall: fsspec\n",
            "    Found existing installation: fsspec 2025.3.2\n",
            "    Uninstalling fsspec-2025.3.2:\n",
            "      Successfully uninstalled fsspec-2025.3.2\n",
            "\u001b[31mERROR: pip's dependency resolver does not currently take into account all the packages that are installed. This behaviour is the source of the following dependency conflicts.\n",
            "torch 2.6.0+cu124 requires nvidia-cublas-cu12==12.4.5.8; platform_system == \"Linux\" and platform_machine == \"x86_64\", but you have nvidia-cublas-cu12 12.5.3.2 which is incompatible.\n",
            "torch 2.6.0+cu124 requires nvidia-cuda-cupti-cu12==12.4.127; platform_system == \"Linux\" and platform_machine == \"x86_64\", but you have nvidia-cuda-cupti-cu12 12.5.82 which is incompatible.\n",
            "torch 2.6.0+cu124 requires nvidia-cuda-nvrtc-cu12==12.4.127; platform_system == \"Linux\" and platform_machine == \"x86_64\", but you have nvidia-cuda-nvrtc-cu12 12.5.82 which is incompatible.\n",
            "torch 2.6.0+cu124 requires nvidia-cuda-runtime-cu12==12.4.127; platform_system == \"Linux\" and platform_machine == \"x86_64\", but you have nvidia-cuda-runtime-cu12 12.5.82 which is incompatible.\n",
            "torch 2.6.0+cu124 requires nvidia-cudnn-cu12==9.1.0.70; platform_system == \"Linux\" and platform_machine == \"x86_64\", but you have nvidia-cudnn-cu12 9.3.0.75 which is incompatible.\n",
            "torch 2.6.0+cu124 requires nvidia-cufft-cu12==11.2.1.3; platform_system == \"Linux\" and platform_machine == \"x86_64\", but you have nvidia-cufft-cu12 11.2.3.61 which is incompatible.\n",
            "torch 2.6.0+cu124 requires nvidia-curand-cu12==10.3.5.147; platform_system == \"Linux\" and platform_machine == \"x86_64\", but you have nvidia-curand-cu12 10.3.6.82 which is incompatible.\n",
            "torch 2.6.0+cu124 requires nvidia-cusolver-cu12==11.6.1.9; platform_system == \"Linux\" and platform_machine == \"x86_64\", but you have nvidia-cusolver-cu12 11.6.3.83 which is incompatible.\n",
            "torch 2.6.0+cu124 requires nvidia-cusparse-cu12==12.3.1.170; platform_system == \"Linux\" and platform_machine == \"x86_64\", but you have nvidia-cusparse-cu12 12.5.1.3 which is incompatible.\n",
            "torch 2.6.0+cu124 requires nvidia-nvjitlink-cu12==12.4.127; platform_system == \"Linux\" and platform_machine == \"x86_64\", but you have nvidia-nvjitlink-cu12 12.5.82 which is incompatible.\n",
            "gcsfs 2025.3.2 requires fsspec==2025.3.2, but you have fsspec 2025.3.0 which is incompatible.\u001b[0m\u001b[31m\n",
            "\u001b[0mSuccessfully installed datasets-3.5.1 dill-0.3.8 fsspec-2025.3.0 multiprocess-0.70.16 xxhash-3.5.0\n",
            "Requirement already satisfied: gdown in /usr/local/lib/python3.11/dist-packages (5.2.0)\n",
            "Requirement already satisfied: beautifulsoup4 in /usr/local/lib/python3.11/dist-packages (from gdown) (4.13.4)\n",
            "Requirement already satisfied: filelock in /usr/local/lib/python3.11/dist-packages (from gdown) (3.18.0)\n",
            "Requirement already satisfied: requests[socks] in /usr/local/lib/python3.11/dist-packages (from gdown) (2.32.3)\n",
            "Requirement already satisfied: tqdm in /usr/local/lib/python3.11/dist-packages (from gdown) (4.67.1)\n",
            "Requirement already satisfied: soupsieve>1.2 in /usr/local/lib/python3.11/dist-packages (from beautifulsoup4->gdown) (2.7)\n",
            "Requirement already satisfied: typing-extensions>=4.0.0 in /usr/local/lib/python3.11/dist-packages (from beautifulsoup4->gdown) (4.13.2)\n",
            "Requirement already satisfied: charset-normalizer<4,>=2 in /usr/local/lib/python3.11/dist-packages (from requests[socks]->gdown) (3.4.1)\n",
            "Requirement already satisfied: idna<4,>=2.5 in /usr/local/lib/python3.11/dist-packages (from requests[socks]->gdown) (3.10)\n",
            "Requirement already satisfied: urllib3<3,>=1.21.1 in /usr/local/lib/python3.11/dist-packages (from requests[socks]->gdown) (2.4.0)\n",
            "Requirement already satisfied: certifi>=2017.4.17 in /usr/local/lib/python3.11/dist-packages (from requests[socks]->gdown) (2025.4.26)\n",
            "Requirement already satisfied: PySocks!=1.5.7,>=1.5.6 in /usr/local/lib/python3.11/dist-packages (from requests[socks]->gdown) (1.7.1)\n"
          ]
        }
      ],
      "source": [
        "!pip install datasets\n",
        "!pip install gdown"
      ]
    },
    {
      "cell_type": "code",
      "execution_count": 3,
      "metadata": {
        "id": "4ZDtWbQi8RRl"
      },
      "outputs": [],
      "source": [
        "import sys, os\n",
        "import numpy as np\n",
        "import matplotlib as mpl\n",
        "import matplotlib.pyplot as plt\n",
        "import torch\n",
        "import argparse\n",
        "import logging\n",
        "\n",
        "import torch.nn as nn\n",
        "from torchvision import models\n",
        "import torchvision.transforms as T\n",
        "from transformers import CLIPModel, CLIPProcessor\n",
        "from torch.utils.data import Dataset, DataLoader\n",
        "\n",
        "import glob\n",
        "from PIL import Image\n",
        "from sklearn.model_selection import train_test_split\n",
        "from datasets import load_dataset\n",
        "import gdown\n",
        "\n",
        "SEED = 42\n",
        "TOL_FP = 1e-12\n",
        "\n",
        "plt.rc('font', size=18)#weight='bold',\n",
        "plt.rc('legend', fontsize=18)\n",
        "plt.rc('lines', linewidth=3, markersize=9)\n",
        "mpl.rcParams['axes.grid'] = True\n",
        "\n",
        "markers = ['o','^','s','p','d']\n",
        "colors = ['b','g','r','c','m','y']"
      ]
    },
    {
      "cell_type": "markdown",
      "metadata": {
        "id": "LlebxjIs8v-A"
      },
      "source": [
        "# Dataloader"
      ]
    },
    {
      "cell_type": "code",
      "execution_count": 4,
      "metadata": {
        "colab": {
          "base_uri": "https://localhost:8080/",
          "height": 472,
          "referenced_widgets": [
            "dd023cd9e3f54d2eb41eab1bdd21d4e5",
            "24b9811ed971458398a849a13a1c59f0",
            "54318da88d044a32af913700ecbce22c",
            "098f96053d3c44eea2c8303ff9554041",
            "c6b0b77de0a44c3288308d2ea50dd7d6",
            "66366b2a372e40959e5c08450d70ed56",
            "9a5b7021c99d413f905465ada954efb1",
            "e85f25e41e5a426885329061f4c4da9b",
            "1392ef321b784844b62d9d063dbb8822",
            "247931dd93cd4486a34c71432b23be3e",
            "f8e48ee45efc406580fae7bcac7ea9d7",
            "83acd7f7dc0045e28c82ff0ac1bed4da",
            "bce30a3f1fba4fc980ddd2f7aff28fb9",
            "48b90c11ffcd4a898e1993315cc099bc",
            "e73628b643aa4c89b3195d26c8363af5",
            "a12145cc4e564ef198bc915cef820625",
            "d579f88d8acc46798d9166ba00fdd5ef",
            "d567d638d0ed4c9ab02353e520668a8d",
            "0e2b02e8f0cc4f78abaa6679528e9cc6",
            "8ea56ba9cc7342c5a82e3e4270f163f6",
            "9bc2627e75a8472991825af2cf26c7f8",
            "6578f82ff47f49e19afbe020c0c96816",
            "263a1c257c9b4df188928de2ae9d72dd",
            "cbe583f7f8a14e0ba8dc6420f86f71b5",
            "29713eb448e6413b917a3041af2ce7b7",
            "5e56029cdaf54b179b63fd70f5e4f544",
            "1332f60a350c4070b7090bee0e514c14",
            "ca66a42c61fb423284d11759acd4597d",
            "c4fb186a59b84f9384108656bdd1b07a",
            "ad7ebe456df54e33b9d06e4ba7d4b94c",
            "29cc017227a94153a6f9a8b92f06d8b7",
            "401bf04ee06347ee940f01ff441509ce",
            "f7156fd996cb4d9c900648fdcae8c643"
          ]
        },
        "id": "M9rIXrjnF9m2",
        "outputId": "eb5f3e9c-6759-48dc-b847-41fb1a855b1e"
      },
      "outputs": [
        {
          "output_type": "stream",
          "name": "stderr",
          "text": [
            "/usr/local/lib/python3.11/dist-packages/huggingface_hub/utils/_auth.py:94: UserWarning: \n",
            "The secret `HF_TOKEN` does not exist in your Colab secrets.\n",
            "To authenticate with the Hugging Face Hub, create a token in your settings tab (https://huggingface.co/settings/tokens), set it as secret in your Google Colab and restart your session.\n",
            "You will be able to reuse this secret in all of your notebooks.\n",
            "Please note that authentication is recommended but still optional to access public models or datasets.\n",
            "  warnings.warn(\n"
          ]
        },
        {
          "output_type": "display_data",
          "data": {
            "text/plain": [
              "README.md:   0%|          | 0.00/795 [00:00<?, ?B/s]"
            ],
            "application/vnd.jupyter.widget-view+json": {
              "version_major": 2,
              "version_minor": 0,
              "model_id": "dd023cd9e3f54d2eb41eab1bdd21d4e5"
            }
          },
          "metadata": {}
        },
        {
          "output_type": "display_data",
          "data": {
            "text/plain": [
              "UTKFace.tar.gz:   0%|          | 0.00/107M [00:00<?, ?B/s]"
            ],
            "application/vnd.jupyter.widget-view+json": {
              "version_major": 2,
              "version_minor": 0,
              "model_id": "83acd7f7dc0045e28c82ff0ac1bed4da"
            }
          },
          "metadata": {}
        },
        {
          "output_type": "display_data",
          "data": {
            "text/plain": [
              "Generating train split:   0%|          | 0/23708 [00:00<?, ? examples/s]"
            ],
            "application/vnd.jupyter.widget-view+json": {
              "version_major": 2,
              "version_minor": 0,
              "model_id": "263a1c257c9b4df188928de2ae9d72dd"
            }
          },
          "metadata": {}
        },
        {
          "output_type": "stream",
          "name": "stdout",
          "text": [
            "Dataset size: 23708\n",
            "Age: 82\n"
          ]
        },
        {
          "output_type": "execute_result",
          "data": {
            "text/plain": [
              "<PIL.JpegImagePlugin.JpegImageFile image mode=RGB size=200x200>"
            ],
            "image/png": "[encoded data removed]",
            "image/jpeg": "[encoded data removed]"
          },
          "metadata": {},
          "execution_count": 4
        }
      ],
      "source": [
        "dataset = load_dataset(\"py97/UTKFace-Cropped\")['train']\n",
        "print(f'Dataset size: {len(dataset):d}')\n",
        "sample = dataset[0] # Change the index here to check different samples\n",
        "age = (sample['__key__'].split('_')[0]).split('/')[-1]\n",
        "age = float(age)\n",
        "print(f'Age: {age:.0f}')\n",
        "sample['jpg.chip.jpg']"
      ]
    },
    {
      "cell_type": "code",
      "execution_count": 5,
      "metadata": {
        "id": "KVxZny5q8g-m"
      },
      "outputs": [],
      "source": [
        "transform = T.Compose([\n",
        "    T.Resize((224, 224)),           # 128 or 224, etc.\n",
        "    T.ToTensor(),                   # Convert to a torch.Tensor\n",
        "    # T.Normalize(mean=[0.5, 0.5, 0.5],\n",
        "                # std=[0.5, 0.5, 0.5]) # Example normalization\n",
        "])\n",
        "\n",
        "class UTKFaceDataset(Dataset):\n",
        "    \"\"\"\n",
        "    UTKFace images are typically named in the format:\n",
        "      [age]_[gender]_[race]_[date].jpg\n",
        "    This dataset parses the 'age' from the filename and\n",
        "    returns (image, age) for each sample.\n",
        "    \"\"\"\n",
        "    def __init__(self, transform=transform):\n",
        "        self.dataset = load_dataset(\"py97/UTKFace-Cropped\")['train']\n",
        "        self.transform = transform\n",
        "\n",
        "    def __len__(self):\n",
        "        return len(self.dataset)\n",
        "\n",
        "    def __getitem__(self, idx):\n",
        "        sample = self.dataset[idx]\n",
        "        image = sample['jpg.chip.jpg']\n",
        "        age = float((sample['__key__'].split('_')[0]).split('/')[-1])\n",
        "\n",
        "        if self.transform:\n",
        "            image = self.transform(image)\n",
        "\n",
        "        return image, age\n",
        "\n",
        "def get_utkface_train_test_loader(batch_size=32, test_size=0.2, seed=42):\n",
        "    \"\"\"\n",
        "    Helper function to return train and test data loaders.\n",
        "    \"\"\"\n",
        "    train_idx, test_idx = train_test_split(\n",
        "        list(range(23708)), test_size=test_size, random_state=seed)\n",
        "\n",
        "    train_sampler = torch.utils.data.SubsetRandomSampler(train_idx)\n",
        "    test_sampler = torch.utils.data.SubsetRandomSampler(test_idx)\n",
        "\n",
        "    train_loader = DataLoader(dataset, batch_size=batch_size, sampler=train_sampler)\n",
        "    test_loader = DataLoader(dataset, batch_size=batch_size, sampler=test_sampler)\n",
        "\n",
        "    return train_loader, test_loader"
      ]
    },
    {
      "cell_type": "code",
      "execution_count": 6,
      "metadata": {
        "colab": {
          "base_uri": "https://localhost:8080/"
        },
        "id": "0k3WI9XG9S30",
        "outputId": "9a7c7f0b-f32e-4b53-9ba1-a3d4f4dd9427"
      },
      "outputs": [
        {
          "output_type": "stream",
          "name": "stdout",
          "text": [
            "Image batch shape: torch.Size([32, 3, 224, 224])\n",
            "Age batch shape: torch.Size([32])\n"
          ]
        }
      ],
      "source": [
        "dataset = UTKFaceDataset()\n",
        "train_loader, test_loader = get_utkface_train_test_loader(batch_size=32, test_size=0.2, seed=42)\n",
        "\n",
        "# Quick check\n",
        "for batch_images, batch_ages in train_loader:\n",
        "    print(\"Image batch shape:\", batch_images.shape)  # e.g. [32, 3, 64, 64]\n",
        "    print(\"Age batch shape:\", batch_ages.shape)      # e.g. [32]\n",
        "    break"
      ]
    },
    {
      "cell_type": "markdown",
      "metadata": {
        "id": "EctZAQfB9ASd"
      },
      "source": [
        "# Extract pre-trained representations"
      ]
    },
    {
      "cell_type": "markdown",
      "metadata": {
        "id": "Y6mqJEqbH-2l"
      },
      "source": [
        "## Compute CLIP representations\n",
        "ALERT: This inference step can take some (a lot of) time, especially on Colab! If this is a concern for you, skip this cell. You can download the precomputed representations using the Google drive URLs provided below."
      ]
    },
    {
      "cell_type": "code",
      "execution_count": null,
      "metadata": {
        "id": "SUutl1btTAjg"
      },
      "outputs": [],
      "source": [
        "# 1) Load the CLIP model and processor\n",
        "clip_model = CLIPModel.from_pretrained(\"openai/clip-vit-base-patch32\")\n",
        "processor = CLIPProcessor.from_pretrained(\"openai/clip-vit-base-patch32\")\n",
        "\n",
        "# We'll focus on the vision encoder part\n",
        "vision_encoder = clip_model.vision_model\n",
        "\n",
        "# 2) Freeze\n",
        "vision_encoder.eval()\n",
        "for param in vision_encoder.parameters():\n",
        "    param.requires_grad = False\n",
        "\n",
        "# 3) (Optional) GPU usage\n",
        "device = torch.device('cuda' if torch.cuda.is_available() else 'cpu')\n",
        "vision_encoder.to(device)\n",
        "\n",
        "# Suppose 'dataset' yields PIL images + labels\n",
        "data_loader = DataLoader(dataset, batch_size=32, shuffle=False)\n",
        "\n",
        "all_features_clip = []\n",
        "with torch.no_grad():\n",
        "    for pil_images, _ in data_loader:\n",
        "        # 4) Use the CLIP processor or transform to get pixel_values\n",
        "        #    Usually you'd do something like:\n",
        "        inputs = processor(images=pil_images, return_tensors=\"pt\", do_rescale=False)\n",
        "        pixel_values = inputs[\"pixel_values\"].to(device)  # (B, 3, 224, 224)\n",
        "\n",
        "        # 5) Forward through CLIP's vision encoder\n",
        "        outputs = vision_encoder(pixel_values=pixel_values)\n",
        "\n",
        "        # 6) outputs has .last_hidden_state and .pooler_output\n",
        "        #    .pooler_output is usually the [CLS] embedding, shape (B, hidden_size)\n",
        "        feats = outputs.pooler_output  # shape (B, 768) for ViT-B/32\n",
        "\n",
        "        all_features_clip.append(feats.cpu())\n",
        "\n",
        "features = torch.cat(all_features_clip, dim=0)  # (N, 768)\n",
        "print(\"CLIP feature matrix shape =\", features.shape)\n",
        "\n",
        "data_loader = DataLoader(dataset, batch_size=32, shuffle=False)\n",
        "all_labels = []\n",
        "for _, labels in data_loader:\n",
        "    all_labels.append(labels)\n",
        "all_labels = torch.cat(all_labels, dim=0)\n",
        "\n",
        "torch.save(all_labels, \"./utkface_labels.pt\")\n",
        "torch.save(features, \"./utkface_clipb32.pt\")\n",
        "features = torch.load(\"./utkface_clipb32.pt\")\n",
        "labels = torch.load(\"./utkface_labels.pt\")"
      ]
    },
    {
      "cell_type": "markdown",
      "metadata": {
        "id": "anMHv9ku3d34"
      },
      "source": [
        "## Download CLIP representations\n",
        "- `clip_features` now contains our feature matrix $X \\in \\mathbb{R}^{n \\times d}$, consisting of $n=23708$ samples, each corresponding to a feature (a CLIP representation vector) of dimension $d=768$.\n",
        "- `labels` is a vector (`torch.Tensor`) of dimension $n=23708$ consisting of the age labels for all samples."
      ]
    },
    {
      "cell_type": "code",
      "execution_count": 7,
      "metadata": {
        "colab": {
          "base_uri": "https://localhost:8080/"
        },
        "id": "GiB720VK3gxN",
        "outputId": "ca13d5a1-a0c0-41b2-b63d-318a546dd5b4"
      },
      "outputs": [
        {
          "output_type": "stream",
          "name": "stderr",
          "text": [
            "Downloading...\n",
            "From (original): https://drive.google.com/uc?id=1YP_CF0asQb35haTCoaVpkelFsdAeQSnc\n",
            "From (redirected): https://drive.google.com/uc?id=1YP_CF0asQb35haTCoaVpkelFsdAeQSnc&confirm=t&uuid=da4411d0-db35-42a3-b1f7-03ede7966da7\n",
            "To: /content/utkface_clipb32.pt\n",
            "100%|██████████| 72.8M/72.8M [00:00<00:00, 101MB/s]\n",
            "Downloading...\n",
            "From: https://drive.google.com/uc?id=1YPnbh1DqfkdjREkH7kfY37G7nyd1c95k\n",
            "To: /content/utkface_labels.pt\n",
            "100%|██████████| 191k/191k [00:00<00:00, 58.0MB/s]"
          ]
        },
        {
          "output_type": "stream",
          "name": "stdout",
          "text": [
            "\n",
            "CLIP feature matrix shape = torch.Size([23708, 768])\n",
            "Labels shape = torch.Size([23708])\n"
          ]
        },
        {
          "output_type": "stream",
          "name": "stderr",
          "text": [
            "\n"
          ]
        }
      ],
      "source": [
        "clip32_id = '1YP_CF0asQb35haTCoaVpkelFsdAeQSnc'\n",
        "clip32_path = './utkface_clipb32.pt'\n",
        "lable_id = '1YPnbh1DqfkdjREkH7kfY37G7nyd1c95k'\n",
        "lable_path = './utkface_labels.pt'\n",
        "\n",
        "if not os.path.exists(clip32_path):\n",
        "    gdown.download(f\"https://drive.google.com/uc?id={clip32_id}\", clip32_path, quiet=False)\n",
        "if not os.path.exists(lable_path):\n",
        "    gdown.download(f\"https://drive.google.com/uc?id={lable_id}\", lable_path, quiet=False)\n",
        "\n",
        "features = torch.load(clip32_path).type(torch.float32)\n",
        "print(\"\\nCLIP feature matrix shape =\", features.shape)\n",
        "labels = torch.load(lable_path).type(torch.float32)\n",
        "print(\"Labels shape =\", labels.shape)"
      ]
    },
    {
      "cell_type": "markdown",
      "metadata": {
        "id": "GJR-k30C6m-8"
      },
      "source": [
        "# Train-test split\n",
        "We first split the $n=23708$ samples into two subsets, one for training ($20000$ samples) and the other for testing ($3708$ samples).\n",
        "\n",
        "**Remark**: For general \"deep learning\" tasks that are highly non-convex, the entire dataset is usually splitted into 3 (instead of 2) parts:\n",
        "- **Training dataset** is usually the largest subset used to fit the model parameters. The model directly learns from this data by minimizing the training loss (e.g. via ERM).\n",
        "- **Validation dataset** is a small hold-out subset used to tune the hyperparameters (e.g., learning rate, weight decay) and to perform model selection or early stopping. The model does not learn from this data; rather, it is used to evaluate generalization performance during training.\n",
        "- **Test dataset** is used only once after the model is fully trained to report final performance. It simulates how the model generalizes (i.e. would perform in real-world deployment).\n",
        "\n",
        "For simple learning problems like linear/ridge regression, the validation set is often omitted. We will stay in this simple setting."
      ]
    },
    {
      "cell_type": "code",
      "execution_count": 8,
      "metadata": {
        "colab": {
          "base_uri": "https://localhost:8080/"
        },
        "id": "bPhL7COI8oqK",
        "outputId": "e8501e09-ab8c-4ccb-c30a-c6b1a5ccac64"
      },
      "outputs": [
        {
          "output_type": "stream",
          "name": "stdout",
          "text": [
            "Training set size = 20000\n",
            "Test set size = 3708\n"
          ]
        }
      ],
      "source": [
        "train_index, test_index = train_test_split(\n",
        "    range(labels.shape[0]), test_size=3708, random_state=42, shuffle=True\n",
        ")\n",
        "\n",
        "print(\"Training set size =\", len(train_index))\n",
        "print(\"Test set size =\", len(test_index))"
      ]
    },
    {
      "cell_type": "markdown",
      "metadata": {
        "id": "ieACh40hBfcy"
      },
      "source": [
        "# Test risk (an approximation of population risk)"
      ]
    },
    {
      "cell_type": "code",
      "execution_count": 13,
      "metadata": {
        "id": "35wJcGxlBlRp"
      },
      "outputs": [],
      "source": [
        "fea_test, lab_test = features[test_index], labels[test_index]\n",
        "\n",
        "def test_risk(prediction):\n",
        "    # Define the test risk (in square loss) below (as an approximation of the population risk)\n",
        "    preds = prediction(fea_test)               # (n_test,)\n",
        "    risk = torch.mean((preds - lab_test) ** 2) # scalar tensor\n",
        "    return risk.item()"
      ]
    },
    {
      "cell_type": "markdown",
      "metadata": {
        "id": "tlD1ngDEJHdG"
      },
      "source": [
        "# Extra credit I: linear regression\n",
        "Implement a linear regression predictor that takes the number of i.i.d. training samples $768 < n \\le 20000$ to be used in ERM as inputs and outputs the ERM minimizer $\\hat{\\theta}$ as a (lambda) function $f(x) = x^\\top \\hat{\\theta}$"
      ]
    },
    {
      "cell_type": "code",
      "execution_count": 14,
      "metadata": {
        "id": "U0AytdgGPWt1"
      },
      "outputs": [],
      "source": [
        "def linear_regression(n_train):\n",
        "    fea_train, lab_train = features[train_index[:n_train]], labels[train_index[:n_train]]\n",
        "    # Implement linear regression below\n",
        "    X = fea_train\n",
        "    y = lab_train\n",
        "    # closed‐form OLS: theta_hat = (X^T X)^{-1} X^T y\n",
        "    XtX = X.T @ X           # (d, d)\n",
        "    Xty = X.T @ y           # (d,)\n",
        "    theta_hat = torch.linalg.solve(XtX, Xty)   # (d,)\n",
        "    return lambda x: x @ theta_hat"
      ]
    },
    {
      "cell_type": "markdown",
      "metadata": {
        "id": "YZbyEB98CNpn"
      },
      "source": [
        "## Scaling law for linear regression"
      ]
    },
    {
      "cell_type": "code",
      "execution_count": 15,
      "metadata": {
        "id": "g444RANpS6-w",
        "colab": {
          "base_uri": "https://localhost:8080/"
        },
        "outputId": "ad577fc9-0d11-4a41-fb63-84a396fba824"
      },
      "outputs": [
        {
          "output_type": "stream",
          "name": "stdout",
          "text": [
            "Test risk with n=2000 samples:  70.28973388671875\n",
            "Test risk with n=4000 samples:  49.51420593261719\n",
            "Test risk with n=6000 samples:  45.129608154296875\n",
            "Test risk with n=8000 samples:  44.02770233154297\n",
            "Test risk with n=10000 samples:  43.16162872314453\n",
            "Test risk with n=12000 samples:  42.38119888305664\n",
            "Test risk with n=14000 samples:  41.81095504760742\n",
            "Test risk with n=16000 samples:  41.42437744140625\n",
            "Test risk with n=18000 samples:  41.093658447265625\n",
            "Test risk with n=20000 samples:  40.98625564575195\n"
          ]
        }
      ],
      "source": [
        "n_trains = torch.arange(2000, 20001, 2000)\n",
        "lr_risks = torch.zeros(n_trains.shape)\n",
        "for i, n_train in enumerate(n_trains):\n",
        "    prediction = linear_regression(n_train)\n",
        "    lr_risks[i] = test_risk(prediction)\n",
        "    print(f'Test risk with n={n_train:d} samples: ', lr_risks[i].item())"
      ]
    },
    {
      "cell_type": "code",
      "execution_count": 16,
      "metadata": {
        "id": "iZOI1IUWEn37",
        "colab": {
          "base_uri": "https://localhost:8080/",
          "height": 408
        },
        "outputId": "d05dd1db-945c-44b7-cf04-d9b9a0778304"
      },
      "outputs": [
        {
          "output_type": "display_data",
          "data": {
            "text/plain": [
              "<Figure size 600x400 with 1 Axes>"
            ],
            "image/png": "[encoded data removed]"
          },
          "metadata": {}
        }
      ],
      "source": [
        "plt.figure(figsize=(6,4))\n",
        "plt.plot(n_trains, lr_risks, 'o:', label='Test risk')\n",
        "plt.xlabel('Number of training samples')\n",
        "plt.ylabel('Test risk')\n",
        "plt.legend()\n",
        "plt.grid()\n",
        "plt.show()"
      ]
    },
    {
      "cell_type": "markdown",
      "metadata": {
        "id": "RS12bozB6TDT"
      },
      "source": [
        "# Extra credit II: ridge regression\n",
        "\n",
        "Now, implement a ridge regression predictor that takes\n",
        "\n",
        "1. the number of i.i.d. training samples $768 < n \\le 20000$ to be used in ERM and\n",
        "2. a ridge parameter $\\lambda = 10$ by default\n",
        "\n",
        "as inputs and outputs the ridge regression minimizer $\\hat{\\theta}$ as a (lambda) function $f(x) = x^\\top \\hat{\\theta}$"
      ]
    },
    {
      "cell_type": "code",
      "execution_count": 17,
      "metadata": {
        "id": "2ZW5fS1_TDjc"
      },
      "outputs": [],
      "source": [
        "ridge = 10\n",
        "def ridge_regression(n_train, ridge=ridge):\n",
        "    fea_train, lab_train = features[train_index[:n_train]], labels[train_index[:n_train]]\n",
        "    # Implement ridge regression below\n",
        "    X = fea_train\n",
        "    y = lab_train\n",
        "    d = X.shape[1]\n",
        "    # closed‐form ridge: theta_hat = (X^T X + lambda I)^{-1} X^T y\n",
        "    XtX = X.T @ X                           # (d, d)\n",
        "    I   = torch.eye(d, device=X.device, dtype=X.dtype)\n",
        "    reg = ridge * I\n",
        "    theta_hat = torch.linalg.solve(XtX + reg, X.T @ y)  # (d,)\n",
        "    return lambda x: x @ theta_hat"
      ]
    },
    {
      "cell_type": "markdown",
      "metadata": {
        "id": "WnoUn0HrHtGG"
      },
      "source": [
        "## Scaling law for ridge regression"
      ]
    },
    {
      "cell_type": "code",
      "execution_count": 18,
      "metadata": {
        "id": "4H4mijiSHs53",
        "colab": {
          "base_uri": "https://localhost:8080/"
        },
        "outputId": "f019fe4c-5580-4830-c017-be5cda8cacff"
      },
      "outputs": [
        {
          "output_type": "stream",
          "name": "stdout",
          "text": [
            "Test risk with ridge=1e+02, n=2000 samples:  48.380897521972656\n",
            "Test risk with ridge=1e+02, n=4000 samples:  44.46620559692383\n",
            "Test risk with ridge=1e+02, n=6000 samples:  43.05726623535156\n",
            "Test risk with ridge=1e+02, n=8000 samples:  42.56790542602539\n",
            "Test risk with ridge=1e+02, n=10000 samples:  42.18642807006836\n",
            "Test risk with ridge=1e+02, n=12000 samples:  41.69886779785156\n",
            "Test risk with ridge=1e+02, n=14000 samples:  41.3275146484375\n",
            "Test risk with ridge=1e+02, n=16000 samples:  41.04084777832031\n",
            "Test risk with ridge=1e+02, n=18000 samples:  40.80592727661133\n",
            "Test risk with ridge=1e+02, n=20000 samples:  40.71436309814453\n",
            "Test risk with ridge=1e+01, n=2000 samples:  59.08087921142578\n",
            "Test risk with ridge=1e+01, n=4000 samples:  47.71438980102539\n",
            "Test risk with ridge=1e+01, n=6000 samples:  44.528263092041016\n",
            "Test risk with ridge=1e+01, n=8000 samples:  43.64378356933594\n",
            "Test risk with ridge=1e+01, n=10000 samples:  42.92539596557617\n",
            "Test risk with ridge=1e+01, n=12000 samples:  42.22468185424805\n",
            "Test risk with ridge=1e+01, n=14000 samples:  41.70566940307617\n",
            "Test risk with ridge=1e+01, n=16000 samples:  41.343040466308594\n",
            "Test risk with ridge=1e+01, n=18000 samples:  41.03020477294922\n",
            "Test risk with ridge=1e+01, n=20000 samples:  40.92975997924805\n",
            "Test risk with ridge=1e+00, n=2000 samples:  68.0218276977539\n",
            "Test risk with ridge=1e+00, n=4000 samples:  49.25536346435547\n",
            "Test risk with ridge=1e+00, n=6000 samples:  45.05322265625\n",
            "Test risk with ridge=1e+00, n=8000 samples:  43.98135757446289\n",
            "Test risk with ridge=1e+00, n=10000 samples:  43.13385009765625\n",
            "Test risk with ridge=1e+00, n=12000 samples:  42.36310577392578\n",
            "Test risk with ridge=1e+00, n=14000 samples:  41.79911804199219\n",
            "Test risk with ridge=1e+00, n=16000 samples:  41.4150276184082\n",
            "Test risk with ridge=1e+00, n=18000 samples:  41.08660888671875\n",
            "Test risk with ridge=1e+00, n=20000 samples:  40.98016357421875\n",
            "Test risk with ridge=1e-01, n=2000 samples:  70.03074645996094\n",
            "Test risk with ridge=1e-01, n=4000 samples:  49.48672866821289\n",
            "Test risk with ridge=1e-01, n=6000 samples:  45.1223258972168\n",
            "Test risk with ridge=1e-01, n=8000 samples:  44.02286911010742\n",
            "Test risk with ridge=1e-01, n=10000 samples:  43.15901184082031\n",
            "Test risk with ridge=1e-01, n=12000 samples:  42.37956619262695\n",
            "Test risk with ridge=1e-01, n=14000 samples:  41.80992889404297\n",
            "Test risk with ridge=1e-01, n=16000 samples:  41.42338943481445\n",
            "Test risk with ridge=1e-01, n=18000 samples:  41.09303665161133\n",
            "Test risk with ridge=1e-01, n=20000 samples:  40.98578643798828\n"
          ]
        }
      ],
      "source": [
        "n_trains = torch.arange(2000, 20001, 2000)\n",
        "ridges = [100, 10, 1, 1e-1]\n",
        "rr_risks = dict()\n",
        "for ridge in ridges:\n",
        "    rr_risks_ = torch.zeros(n_trains.shape)\n",
        "    for i, n_train in enumerate(n_trains):\n",
        "        prediction = ridge_regression(n_train, ridge=ridge)\n",
        "        rr_risks_[i] = test_risk(prediction)\n",
        "        print(f'Test risk with ridge={ridge:.0e}, n={n_train:d} samples: ', rr_risks_[i].item())\n",
        "    rr_risks[ridge] = rr_risks_"
      ]
    },
    {
      "cell_type": "code",
      "execution_count": 19,
      "metadata": {
        "id": "sf8BAFK76Wi5",
        "colab": {
          "base_uri": "https://localhost:8080/",
          "height": 408
        },
        "outputId": "83778bac-df19-4115-8aad-c104f8e094e5"
      },
      "outputs": [
        {
          "output_type": "display_data",
          "data": {
            "text/plain": [
              "<Figure size 600x400 with 1 Axes>"
            ],
            "image/png": "[encoded data removed]"
          },
          "metadata": {}
        }
      ],
      "source": [
        "plt.figure(figsize=(6,4))\n",
        "plt.plot(n_trains, lr_risks, 'o:', label='Linear regression')\n",
        "for ridge, rr_risks_ in rr_risks.items():\n",
        "    plt.plot(n_trains, rr_risks_, 'o:', label=f'Ridge regression $\\lambda={ridge}$')\n",
        "plt.xlabel('Number of training samples')\n",
        "plt.ylabel('Test risk')\n",
        "plt.legend()\n",
        "plt.grid()\n",
        "plt.show()"
      ]
    },
    {
      "cell_type": "code",
      "execution_count": null,
      "metadata": {
        "id": "csC2FQwTI_uq"
      },
      "outputs": [],
      "source": []
    }
  ],
  "metadata": {
    "colab": {
      "provenance": [],
      "toc_visible": true
    },
    "kernelspec": {
      "display_name": "Python 3",
      "name": "python3"
    },
    "language_info": {
      "name": "python"
    },
    "widgets": {
      "application/vnd.jupyter.widget-state+json": {
        "dd023cd9e3f54d2eb41eab1bdd21d4e5": {
          "model_module": "@jupyter-widgets/controls",
          "model_name": "HBoxModel",
          "model_module_version": "1.5.0",
          "state": {
            "_dom_classes": [],
            "_model_module": "@jupyter-widgets/controls",
            "_model_module_version": "1.5.0",
            "_model_name": "HBoxModel",
            "_view_count": null,
            "_view_module": "@jupyter-widgets/controls",
            "_view_module_version": "1.5.0",
            "_view_name": "HBoxView",
            "box_style": "",
            "children": [
              "IPY_MODEL_24b9811ed971458398a849a13a1c59f0",
              "IPY_MODEL_54318da88d044a32af913700ecbce22c",
              "IPY_MODEL_098f96053d3c44eea2c8303ff9554041"
            ],
            "layout": "IPY_MODEL_c6b0b77de0a44c3288308d2ea50dd7d6"
          }
        },
        "24b9811ed971458398a849a13a1c59f0": {
          "model_module": "@jupyter-widgets/controls",
          "model_name": "HTMLModel",
          "model_module_version": "1.5.0",
          "state": {
            "_dom_classes": [],
            "_model_module": "@jupyter-widgets/controls",
            "_model_module_version": "1.5.0",
            "_model_name": "HTMLModel",
            "_view_count": null,
            "_view_module": "@jupyter-widgets/controls",
            "_view_module_version": "1.5.0",
            "_view_name": "HTMLView",
            "description": "",
            "description_tooltip": null,
            "layout": "IPY_MODEL_66366b2a372e40959e5c08450d70ed56",
            "placeholder": "​",
            "style": "IPY_MODEL_9a5b7021c99d413f905465ada954efb1",
            "value": "README.md: 100%"
          }
        },
        "54318da88d044a32af913700ecbce22c": {
          "model_module": "@jupyter-widgets/controls",
          "model_name": "FloatProgressModel",
          "model_module_version": "1.5.0",
          "state": {
            "_dom_classes": [],
            "_model_module": "@jupyter-widgets/controls",
            "_model_module_version": "1.5.0",
            "_model_name": "FloatProgressModel",
            "_view_count": null,
            "_view_module": "@jupyter-widgets/controls",
            "_view_module_version": "1.5.0",
            "_view_name": "ProgressView",
            "bar_style": "success",
            "description": "",
            "description_tooltip": null,
            "layout": "IPY_MODEL_e85f25e41e5a426885329061f4c4da9b",
            "max": 795,
            "min": 0,
            "orientation": "horizontal",
            "style": "IPY_MODEL_1392ef321b784844b62d9d063dbb8822",
            "value": 795
          }
        },
        "098f96053d3c44eea2c8303ff9554041": {
          "model_module": "@jupyter-widgets/controls",
          "model_name": "HTMLModel",
          "model_module_version": "1.5.0",
          "state": {
            "_dom_classes": [],
            "_model_module": "@jupyter-widgets/controls",
            "_model_module_version": "1.5.0",
            "_model_name": "HTMLModel",
            "_view_count": null,
            "_view_module": "@jupyter-widgets/controls",
            "_view_module_version": "1.5.0",
            "_view_name": "HTMLView",
            "description": "",
            "description_tooltip": null,
            "layout": "IPY_MODEL_247931dd93cd4486a34c71432b23be3e",
            "placeholder": "​",
            "style": "IPY_MODEL_f8e48ee45efc406580fae7bcac7ea9d7",
            "value": " 795/795 [00:00&lt;00:00, 11.5kB/s]"
          }
        },
        "c6b0b77de0a44c3288308d2ea50dd7d6": {
          "model_module": "@jupyter-widgets/base",
          "model_name": "LayoutModel",
          "model_module_version": "1.2.0",
          "state": {
            "_model_module": "@jupyter-widgets/base",
            "_model_module_version": "1.2.0",
            "_model_name": "LayoutModel",
            "_view_count": null,
            "_view_module": "@jupyter-widgets/base",
            "_view_module_version": "1.2.0",
            "_view_name": "LayoutView",
            "align_content": null,
            "align_items": null,
            "align_self": null,
            "border": null,
            "bottom": null,
            "display": null,
            "flex": null,
            "flex_flow": null,
            "grid_area": null,
            "grid_auto_columns": null,
            "grid_auto_flow": null,
            "grid_auto_rows": null,
            "grid_column": null,
            "grid_gap": null,
            "grid_row": null,
            "grid_template_areas": null,
            "grid_template_columns": null,
            "grid_template_rows": null,
            "height": null,
            "justify_content": null,
            "justify_items": null,
            "left": null,
            "margin": null,
            "max_height": null,
            "max_width": null,
            "min_height": null,
            "min_width": null,
            "object_fit": null,
            "object_position": null,
            "order": null,
            "overflow": null,
            "overflow_x": null,
            "overflow_y": null,
            "padding": null,
            "right": null,
            "top": null,
            "visibility": null,
            "width": null
          }
        },
        "66366b2a372e40959e5c08450d70ed56": {
          "model_module": "@jupyter-widgets/base",
          "model_name": "LayoutModel",
          "model_module_version": "1.2.0",
          "state": {
            "_model_module": "@jupyter-widgets/base",
            "_model_module_version": "1.2.0",
            "_model_name": "LayoutModel",
            "_view_count": null,
            "_view_module": "@jupyter-widgets/base",
            "_view_module_version": "1.2.0",
            "_view_name": "LayoutView",
            "align_content": null,
            "align_items": null,
            "align_self": null,
            "border": null,
            "bottom": null,
            "display": null,
            "flex": null,
            "flex_flow": null,
            "grid_area": null,
            "grid_auto_columns": null,
            "grid_auto_flow": null,
            "grid_auto_rows": null,
            "grid_column": null,
            "grid_gap": null,
            "grid_row": null,
            "grid_template_areas": null,
            "grid_template_columns": null,
            "grid_template_rows": null,
            "height": null,
            "justify_content": null,
            "justify_items": null,
            "left": null,
            "margin": null,
            "max_height": null,
            "max_width": null,
            "min_height": null,
            "min_width": null,
            "object_fit": null,
            "object_position": null,
            "order": null,
            "overflow": null,
            "overflow_x": null,
            "overflow_y": null,
            "padding": null,
            "right": null,
            "top": null,
            "visibility": null,
            "width": null
          }
        },
        "9a5b7021c99d413f905465ada954efb1": {
          "model_module": "@jupyter-widgets/controls",
          "model_name": "DescriptionStyleModel",
          "model_module_version": "1.5.0",
          "state": {
            "_model_module": "@jupyter-widgets/controls",
            "_model_module_version": "1.5.0",
            "_model_name": "DescriptionStyleModel",
            "_view_count": null,
            "_view_module": "@jupyter-widgets/base",
            "_view_module_version": "1.2.0",
            "_view_name": "StyleView",
            "description_width": ""
          }
        },
        "e85f25e41e5a426885329061f4c4da9b": {
          "model_module": "@jupyter-widgets/base",
          "model_name": "LayoutModel",
          "model_module_version": "1.2.0",
          "state": {
            "_model_module": "@jupyter-widgets/base",
            "_model_module_version": "1.2.0",
            "_model_name": "LayoutModel",
            "_view_count": null,
            "_view_module": "@jupyter-widgets/base",
            "_view_module_version": "1.2.0",
            "_view_name": "LayoutView",
            "align_content": null,
            "align_items": null,
            "align_self": null,
            "border": null,
            "bottom": null,
            "display": null,
            "flex": null,
            "flex_flow": null,
            "grid_area": null,
            "grid_auto_columns": null,
            "grid_auto_flow": null,
            "grid_auto_rows": null,
            "grid_column": null,
            "grid_gap": null,
            "grid_row": null,
            "grid_template_areas": null,
            "grid_template_columns": null,
            "grid_template_rows": null,
            "height": null,
            "justify_content": null,
            "justify_items": null,
            "left": null,
            "margin": null,
            "max_height": null,
            "max_width": null,
            "min_height": null,
            "min_width": null,
            "object_fit": null,
            "object_position": null,
            "order": null,
            "overflow": null,
            "overflow_x": null,
            "overflow_y": null,
            "padding": null,
            "right": null,
            "top": null,
            "visibility": null,
            "width": null
          }
        },
        "1392ef321b784844b62d9d063dbb8822": {
          "model_module": "@jupyter-widgets/controls",
          "model_name": "ProgressStyleModel",
          "model_module_version": "1.5.0",
          "state": {
            "_model_module": "@jupyter-widgets/controls",
            "_model_module_version": "1.5.0",
            "_model_name": "ProgressStyleModel",
            "_view_count": null,
            "_view_module": "@jupyter-widgets/base",
            "_view_module_version": "1.2.0",
            "_view_name": "StyleView",
            "bar_color": null,
            "description_width": ""
          }
        },
        "247931dd93cd4486a34c71432b23be3e": {
          "model_module": "@jupyter-widgets/base",
          "model_name": "LayoutModel",
          "model_module_version": "1.2.0",
          "state": {
            "_model_module": "@jupyter-widgets/base",
            "_model_module_version": "1.2.0",
            "_model_name": "LayoutModel",
            "_view_count": null,
            "_view_module": "@jupyter-widgets/base",
            "_view_module_version": "1.2.0",
            "_view_name": "LayoutView",
            "align_content": null,
            "align_items": null,
            "align_self": null,
            "border": null,
            "bottom": null,
            "display": null,
            "flex": null,
            "flex_flow": null,
            "grid_area": null,
            "grid_auto_columns": null,
            "grid_auto_flow": null,
            "grid_auto_rows": null,
            "grid_column": null,
            "grid_gap": null,
            "grid_row": null,
            "grid_template_areas": null,
            "grid_template_columns": null,
            "grid_template_rows": null,
            "height": null,
            "justify_content": null,
            "justify_items": null,
            "left": null,
            "margin": null,
            "max_height": null,
            "max_width": null,
            "min_height": null,
            "min_width": null,
            "object_fit": null,
            "object_position": null,
            "order": null,
            "overflow": null,
            "overflow_x": null,
            "overflow_y": null,
            "padding": null,
            "right": null,
            "top": null,
            "visibility": null,
            "width": null
          }
        },
        "f8e48ee45efc406580fae7bcac7ea9d7": {
          "model_module": "@jupyter-widgets/controls",
          "model_name": "DescriptionStyleModel",
          "model_module_version": "1.5.0",
          "state": {
            "_model_module": "@jupyter-widgets/controls",
            "_model_module_version": "1.5.0",
            "_model_name": "DescriptionStyleModel",
            "_view_count": null,
            "_view_module": "@jupyter-widgets/base",
            "_view_module_version": "1.2.0",
            "_view_name": "StyleView",
            "description_width": ""
          }
        },
        "83acd7f7dc0045e28c82ff0ac1bed4da": {
          "model_module": "@jupyter-widgets/controls",
          "model_name": "HBoxModel",
          "model_module_version": "1.5.0",
          "state": {
            "_dom_classes": [],
            "_model_module": "@jupyter-widgets/controls",
            "_model_module_version": "1.5.0",
            "_model_name": "HBoxModel",
            "_view_count": null,
            "_view_module": "@jupyter-widgets/controls",
            "_view_module_version": "1.5.0",
            "_view_name": "HBoxView",
            "box_style": "",
            "children": [
              "IPY_MODEL_bce30a3f1fba4fc980ddd2f7aff28fb9",
              "IPY_MODEL_48b90c11ffcd4a898e1993315cc099bc",
              "IPY_MODEL_e73628b643aa4c89b3195d26c8363af5"
            ],
            "layout": "IPY_MODEL_a12145cc4e564ef198bc915cef820625"
          }
        },
        "bce30a3f1fba4fc980ddd2f7aff28fb9": {
          "model_module": "@jupyter-widgets/controls",
          "model_name": "HTMLModel",
          "model_module_version": "1.5.0",
          "state": {
            "_dom_classes": [],
            "_model_module": "@jupyter-widgets/controls",
            "_model_module_version": "1.5.0",
            "_model_name": "HTMLModel",
            "_view_count": null,
            "_view_module": "@jupyter-widgets/controls",
            "_view_module_version": "1.5.0",
            "_view_name": "HTMLView",
            "description": "",
            "description_tooltip": null,
            "layout": "IPY_MODEL_d579f88d8acc46798d9166ba00fdd5ef",
            "placeholder": "​",
            "style": "IPY_MODEL_d567d638d0ed4c9ab02353e520668a8d",
            "value": "UTKFace.tar.gz: 100%"
          }
        },
        "48b90c11ffcd4a898e1993315cc099bc": {
          "model_module": "@jupyter-widgets/controls",
          "model_name": "FloatProgressModel",
          "model_module_version": "1.5.0",
          "state": {
            "_dom_classes": [],
            "_model_module": "@jupyter-widgets/controls",
            "_model_module_version": "1.5.0",
            "_model_name": "FloatProgressModel",
            "_view_count": null,
            "_view_module": "@jupyter-widgets/controls",
            "_view_module_version": "1.5.0",
            "_view_name": "ProgressView",
            "bar_style": "success",
            "description": "",
            "description_tooltip": null,
            "layout": "IPY_MODEL_0e2b02e8f0cc4f78abaa6679528e9cc6",
            "max": 106634631,
            "min": 0,
            "orientation": "horizontal",
            "style": "IPY_MODEL_8ea56ba9cc7342c5a82e3e4270f163f6",
            "value": 106634631
          }
        },
        "e73628b643aa4c89b3195d26c8363af5": {
          "model_module": "@jupyter-widgets/controls",
          "model_name": "HTMLModel",
          "model_module_version": "1.5.0",
          "state": {
            "_dom_classes": [],
            "_model_module": "@jupyter-widgets/controls",
            "_model_module_version": "1.5.0",
            "_model_name": "HTMLModel",
            "_view_count": null,
            "_view_module": "@jupyter-widgets/controls",
            "_view_module_version": "1.5.0",
            "_view_name": "HTMLView",
            "description": "",
            "description_tooltip": null,
            "layout": "IPY_MODEL_9bc2627e75a8472991825af2cf26c7f8",
            "placeholder": "​",
            "style": "IPY_MODEL_6578f82ff47f49e19afbe020c0c96816",
            "value": " 107M/107M [00:01&lt;00:00, 102MB/s]"
          }
        },
        "a12145cc4e564ef198bc915cef820625": {
          "model_module": "@jupyter-widgets/base",
          "model_name": "LayoutModel",
          "model_module_version": "1.2.0",
          "state": {
            "_model_module": "@jupyter-widgets/base",
            "_model_module_version": "1.2.0",
            "_model_name": "LayoutModel",
            "_view_count": null,
            "_view_module": "@jupyter-widgets/base",
            "_view_module_version": "1.2.0",
            "_view_name": "LayoutView",
            "align_content": null,
            "align_items": null,
            "align_self": null,
            "border": null,
            "bottom": null,
            "display": null,
            "flex": null,
            "flex_flow": null,
            "grid_area": null,
            "grid_auto_columns": null,
            "grid_auto_flow": null,
            "grid_auto_rows": null,
            "grid_column": null,
            "grid_gap": null,
            "grid_row": null,
            "grid_template_areas": null,
            "grid_template_columns": null,
            "grid_template_rows": null,
            "height": null,
            "justify_content": null,
            "justify_items": null,
            "left": null,
            "margin": null,
            "max_height": null,
            "max_width": null,
            "min_height": null,
            "min_width": null,
            "object_fit": null,
            "object_position": null,
            "order": null,
            "overflow": null,
            "overflow_x": null,
            "overflow_y": null,
            "padding": null,
            "right": null,
            "top": null,
            "visibility": null,
            "width": null
          }
        },
        "d579f88d8acc46798d9166ba00fdd5ef": {
          "model_module": "@jupyter-widgets/base",
          "model_name": "LayoutModel",
          "model_module_version": "1.2.0",
          "state": {
            "_model_module": "@jupyter-widgets/base",
            "_model_module_version": "1.2.0",
            "_model_name": "LayoutModel",
            "_view_count": null,
            "_view_module": "@jupyter-widgets/base",
            "_view_module_version": "1.2.0",
            "_view_name": "LayoutView",
            "align_content": null,
            "align_items": null,
            "align_self": null,
            "border": null,
            "bottom": null,
            "display": null,
            "flex": null,
            "flex_flow": null,
            "grid_area": null,
            "grid_auto_columns": null,
            "grid_auto_flow": null,
            "grid_auto_rows": null,
            "grid_column": null,
            "grid_gap": null,
            "grid_row": null,
            "grid_template_areas": null,
            "grid_template_columns": null,
            "grid_template_rows": null,
            "height": null,
            "justify_content": null,
            "justify_items": null,
            "left": null,
            "margin": null,
            "max_height": null,
            "max_width": null,
            "min_height": null,
            "min_width": null,
            "object_fit": null,
            "object_position": null,
            "order": null,
            "overflow": null,
            "overflow_x": null,
            "overflow_y": null,
            "padding": null,
            "right": null,
            "top": null,
            "visibility": null,
            "width": null
          }
        },
        "d567d638d0ed4c9ab02353e520668a8d": {
          "model_module": "@jupyter-widgets/controls",
          "model_name": "DescriptionStyleModel",
          "model_module_version": "1.5.0",
          "state": {
            "_model_module": "@jupyter-widgets/controls",
            "_model_module_version": "1.5.0",
            "_model_name": "DescriptionStyleModel",
            "_view_count": null,
            "_view_module": "@jupyter-widgets/base",
            "_view_module_version": "1.2.0",
            "_view_name": "StyleView",
            "description_width": ""
          }
        },
        "0e2b02e8f0cc4f78abaa6679528e9cc6": {
          "model_module": "@jupyter-widgets/base",
          "model_name": "LayoutModel",
          "model_module_version": "1.2.0",
          "state": {
            "_model_module": "@jupyter-widgets/base",
            "_model_module_version": "1.2.0",
            "_model_name": "LayoutModel",
            "_view_count": null,
            "_view_module": "@jupyter-widgets/base",
            "_view_module_version": "1.2.0",
            "_view_name": "LayoutView",
            "align_content": null,
            "align_items": null,
            "align_self": null,
            "border": null,
            "bottom": null,
            "display": null,
            "flex": null,
            "flex_flow": null,
            "grid_area": null,
            "grid_auto_columns": null,
            "grid_auto_flow": null,
            "grid_auto_rows": null,
            "grid_column": null,
            "grid_gap": null,
            "grid_row": null,
            "grid_template_areas": null,
            "grid_template_columns": null,
            "grid_template_rows": null,
            "height": null,
            "justify_content": null,
            "justify_items": null,
            "left": null,
            "margin": null,
            "max_height": null,
            "max_width": null,
            "min_height": null,
            "min_width": null,
            "object_fit": null,
            "object_position": null,
            "order": null,
            "overflow": null,
            "overflow_x": null,
            "overflow_y": null,
            "padding": null,
            "right": null,
            "top": null,
            "visibility": null,
            "width": null
          }
        },
        "8ea56ba9cc7342c5a82e3e4270f163f6": {
          "model_module": "@jupyter-widgets/controls",
          "model_name": "ProgressStyleModel",
          "model_module_version": "1.5.0",
          "state": {
            "_model_module": "@jupyter-widgets/controls",
            "_model_module_version": "1.5.0",
            "_model_name": "ProgressStyleModel",
            "_view_count": null,
            "_view_module": "@jupyter-widgets/base",
            "_view_module_version": "1.2.0",
            "_view_name": "StyleView",
            "bar_color": null,
            "description_width": ""
          }
        },
        "9bc2627e75a8472991825af2cf26c7f8": {
          "model_module": "@jupyter-widgets/base",
          "model_name": "LayoutModel",
          "model_module_version": "1.2.0",
          "state": {
            "_model_module": "@jupyter-widgets/base",
            "_model_module_version": "1.2.0",
            "_model_name": "LayoutModel",
            "_view_count": null,
            "_view_module": "@jupyter-widgets/base",
            "_view_module_version": "1.2.0",
            "_view_name": "LayoutView",
            "align_content": null,
            "align_items": null,
            "align_self": null,
            "border": null,
            "bottom": null,
            "display": null,
            "flex": null,
            "flex_flow": null,
            "grid_area": null,
            "grid_auto_columns": null,
            "grid_auto_flow": null,
            "grid_auto_rows": null,
            "grid_column": null,
            "grid_gap": null,
            "grid_row": null,
            "grid_template_areas": null,
            "grid_template_columns": null,
            "grid_template_rows": null,
            "height": null,
            "justify_content": null,
            "justify_items": null,
            "left": null,
            "margin": null,
            "max_height": null,
            "max_width": null,
            "min_height": null,
            "min_width": null,
            "object_fit": null,
            "object_position": null,
            "order": null,
            "overflow": null,
            "overflow_x": null,
            "overflow_y": null,
            "padding": null,
            "right": null,
            "top": null,
            "visibility": null,
            "width": null
          }
        },
        "6578f82ff47f49e19afbe020c0c96816": {
          "model_module": "@jupyter-widgets/controls",
          "model_name": "DescriptionStyleModel",
          "model_module_version": "1.5.0",
          "state": {
            "_model_module": "@jupyter-widgets/controls",
            "_model_module_version": "1.5.0",
            "_model_name": "DescriptionStyleModel",
            "_view_count": null,
            "_view_module": "@jupyter-widgets/base",
            "_view_module_version": "1.2.0",
            "_view_name": "StyleView",
            "description_width": ""
          }
        },
        "263a1c257c9b4df188928de2ae9d72dd": {
          "model_module": "@jupyter-widgets/controls",
          "model_name": "HBoxModel",
          "model_module_version": "1.5.0",
          "state": {
            "_dom_classes": [],
            "_model_module": "@jupyter-widgets/controls",
            "_model_module_version": "1.5.0",
            "_model_name": "HBoxModel",
            "_view_count": null,
            "_view_module": "@jupyter-widgets/controls",
            "_view_module_version": "1.5.0",
            "_view_name": "HBoxView",
            "box_style": "",
            "children": [
              "IPY_MODEL_cbe583f7f8a14e0ba8dc6420f86f71b5",
              "IPY_MODEL_29713eb448e6413b917a3041af2ce7b7",
              "IPY_MODEL_5e56029cdaf54b179b63fd70f5e4f544"
            ],
            "layout": "IPY_MODEL_1332f60a350c4070b7090bee0e514c14"
          }
        },
        "cbe583f7f8a14e0ba8dc6420f86f71b5": {
          "model_module": "@jupyter-widgets/controls",
          "model_name": "HTMLModel",
          "model_module_version": "1.5.0",
          "state": {
            "_dom_classes": [],
            "_model_module": "@jupyter-widgets/controls",
            "_model_module_version": "1.5.0",
            "_model_name": "HTMLModel",
            "_view_count": null,
            "_view_module": "@jupyter-widgets/controls",
            "_view_module_version": "1.5.0",
            "_view_name": "HTMLView",
            "description": "",
            "description_tooltip": null,
            "layout": "IPY_MODEL_ca66a42c61fb423284d11759acd4597d",
            "placeholder": "​",
            "style": "IPY_MODEL_c4fb186a59b84f9384108656bdd1b07a",
            "value": "Generating train split: 100%"
          }
        },
        "29713eb448e6413b917a3041af2ce7b7": {
          "model_module": "@jupyter-widgets/controls",
          "model_name": "FloatProgressModel",
          "model_module_version": "1.5.0",
          "state": {
            "_dom_classes": [],
            "_model_module": "@jupyter-widgets/controls",
            "_model_module_version": "1.5.0",
            "_model_name": "FloatProgressModel",
            "_view_count": null,
            "_view_module": "@jupyter-widgets/controls",
            "_view_module_version": "1.5.0",
            "_view_name": "ProgressView",
            "bar_style": "success",
            "description": "",
            "description_tooltip": null,
            "layout": "IPY_MODEL_ad7ebe456df54e33b9d06e4ba7d4b94c",
            "max": 23708,
            "min": 0,
            "orientation": "horizontal",
            "style": "IPY_MODEL_29cc017227a94153a6f9a8b92f06d8b7",
            "value": 23708
          }
        },
        "5e56029cdaf54b179b63fd70f5e4f544": {
          "model_module": "@jupyter-widgets/controls",
          "model_name": "HTMLModel",
          "model_module_version": "1.5.0",
          "state": {
            "_dom_classes": [],
            "_model_module": "@jupyter-widgets/controls",
            "_model_module_version": "1.5.0",
            "_model_name": "HTMLModel",
            "_view_count": null,
            "_view_module": "@jupyter-widgets/controls",
            "_view_module_version": "1.5.0",
            "_view_name": "HTMLView",
            "description": "",
            "description_tooltip": null,
            "layout": "IPY_MODEL_401bf04ee06347ee940f01ff441509ce",
            "placeholder": "​",
            "style": "IPY_MODEL_f7156fd996cb4d9c900648fdcae8c643",
            "value": " 23708/23708 [00:04&lt;00:00, 5605.57 examples/s]"
          }
        },
        "1332f60a350c4070b7090bee0e514c14": {
          "model_module": "@jupyter-widgets/base",
          "model_name": "LayoutModel",
          "model_module_version": "1.2.0",
          "state": {
            "_model_module": "@jupyter-widgets/base",
            "_model_module_version": "1.2.0",
            "_model_name": "LayoutModel",
            "_view_count": null,
            "_view_module": "@jupyter-widgets/base",
            "_view_module_version": "1.2.0",
            "_view_name": "LayoutView",
            "align_content": null,
            "align_items": null,
            "align_self": null,
            "border": null,
            "bottom": null,
            "display": null,
            "flex": null,
            "flex_flow": null,
            "grid_area": null,
            "grid_auto_columns": null,
            "grid_auto_flow": null,
            "grid_auto_rows": null,
            "grid_column": null,
            "grid_gap": null,
            "grid_row": null,
            "grid_template_areas": null,
            "grid_template_columns": null,
            "grid_template_rows": null,
            "height": null,
            "justify_content": null,
            "justify_items": null,
            "left": null,
            "margin": null,
            "max_height": null,
            "max_width": null,
            "min_height": null,
            "min_width": null,
            "object_fit": null,
            "object_position": null,
            "order": null,
            "overflow": null,
            "overflow_x": null,
            "overflow_y": null,
            "padding": null,
            "right": null,
            "top": null,
            "visibility": null,
            "width": null
          }
        },
        "ca66a42c61fb423284d11759acd4597d": {
          "model_module": "@jupyter-widgets/base",
          "model_name": "LayoutModel",
          "model_module_version": "1.2.0",
          "state": {
            "_model_module": "@jupyter-widgets/base",
            "_model_module_version": "1.2.0",
            "_model_name": "LayoutModel",
            "_view_count": null,
            "_view_module": "@jupyter-widgets/base",
            "_view_module_version": "1.2.0",
            "_view_name": "LayoutView",
            "align_content": null,
            "align_items": null,
            "align_self": null,
            "border": null,
            "bottom": null,
            "display": null,
            "flex": null,
            "flex_flow": null,
            "grid_area": null,
            "grid_auto_columns": null,
            "grid_auto_flow": null,
            "grid_auto_rows": null,
            "grid_column": null,
            "grid_gap": null,
            "grid_row": null,
            "grid_template_areas": null,
            "grid_template_columns": null,
            "grid_template_rows": null,
            "height": null,
            "justify_content": null,
            "justify_items": null,
            "left": null,
            "margin": null,
            "max_height": null,
            "max_width": null,
            "min_height": null,
            "min_width": null,
            "object_fit": null,
            "object_position": null,
            "order": null,
            "overflow": null,
            "overflow_x": null,
            "overflow_y": null,
            "padding": null,
            "right": null,
            "top": null,
            "visibility": null,
            "width": null
          }
        },
        "c4fb186a59b84f9384108656bdd1b07a": {
          "model_module": "@jupyter-widgets/controls",
          "model_name": "DescriptionStyleModel",
          "model_module_version": "1.5.0",
          "state": {
            "_model_module": "@jupyter-widgets/controls",
            "_model_module_version": "1.5.0",
            "_model_name": "DescriptionStyleModel",
            "_view_count": null,
            "_view_module": "@jupyter-widgets/base",
            "_view_module_version": "1.2.0",
            "_view_name": "StyleView",
            "description_width": ""
          }
        },
        "ad7ebe456df54e33b9d06e4ba7d4b94c": {
          "model_module": "@jupyter-widgets/base",
          "model_name": "LayoutModel",
          "model_module_version": "1.2.0",
          "state": {
            "_model_module": "@jupyter-widgets/base",
            "_model_module_version": "1.2.0",
            "_model_name": "LayoutModel",
            "_view_count": null,
            "_view_module": "@jupyter-widgets/base",
            "_view_module_version": "1.2.0",
            "_view_name": "LayoutView",
            "align_content": null,
            "align_items": null,
            "align_self": null,
            "border": null,
            "bottom": null,
            "display": null,
            "flex": null,
            "flex_flow": null,
            "grid_area": null,
            "grid_auto_columns": null,
            "grid_auto_flow": null,
            "grid_auto_rows": null,
            "grid_column": null,
            "grid_gap": null,
            "grid_row": null,
            "grid_template_areas": null,
            "grid_template_columns": null,
            "grid_template_rows": null,
            "height": null,
            "justify_content": null,
            "justify_items": null,
            "left": null,
            "margin": null,
            "max_height": null,
            "max_width": null,
            "min_height": null,
            "min_width": null,
            "object_fit": null,
            "object_position": null,
            "order": null,
            "overflow": null,
            "overflow_x": null,
            "overflow_y": null,
            "padding": null,
            "right": null,
            "top": null,
            "visibility": null,
            "width": null
          }
        },
        "29cc017227a94153a6f9a8b92f06d8b7": {
          "model_module": "@jupyter-widgets/controls",
          "model_name": "ProgressStyleModel",
          "model_module_version": "1.5.0",
          "state": {
            "_model_module": "@jupyter-widgets/controls",
            "_model_module_version": "1.5.0",
            "_model_name": "ProgressStyleModel",
            "_view_count": null,
            "_view_module": "@jupyter-widgets/base",
            "_view_module_version": "1.2.0",
            "_view_name": "StyleView",
            "bar_color": null,
            "description_width": ""
          }
        },
        "401bf04ee06347ee940f01ff441509ce": {
          "model_module": "@jupyter-widgets/base",
          "model_name": "LayoutModel",
          "model_module_version": "1.2.0",
          "state": {
            "_model_module": "@jupyter-widgets/base",
            "_model_module_version": "1.2.0",
            "_model_name": "LayoutModel",
            "_view_count": null,
            "_view_module": "@jupyter-widgets/base",
            "_view_module_version": "1.2.0",
            "_view_name": "LayoutView",
            "align_content": null,
            "align_items": null,
            "align_self": null,
            "border": null,
            "bottom": null,
            "display": null,
            "flex": null,
            "flex_flow": null,
            "grid_area": null,
            "grid_auto_columns": null,
            "grid_auto_flow": null,
            "grid_auto_rows": null,
            "grid_column": null,
            "grid_gap": null,
            "grid_row": null,
            "grid_template_areas": null,
            "grid_template_columns": null,
            "grid_template_rows": null,
            "height": null,
            "justify_content": null,
            "justify_items": null,
            "left": null,
            "margin": null,
            "max_height": null,
            "max_width": null,
            "min_height": null,
            "min_width": null,
            "object_fit": null,
            "object_position": null,
            "order": null,
            "overflow": null,
            "overflow_x": null,
            "overflow_y": null,
            "padding": null,
            "right": null,
            "top": null,
            "visibility": null,
            "width": null
          }
        },
        "f7156fd996cb4d9c900648fdcae8c643": {
          "model_module": "@jupyter-widgets/controls",
          "model_name": "DescriptionStyleModel",
          "model_module_version": "1.5.0",
          "state": {
            "_model_module": "@jupyter-widgets/controls",
            "_model_module_version": "1.5.0",
            "_model_name": "DescriptionStyleModel",
            "_view_count": null,
            "_view_module": "@jupyter-widgets/base",
            "_view_module_version": "1.2.0",
            "_view_name": "StyleView",
            "description_width": ""
          }
        }
      }
    }
  },
  "nbformat": 4,
  "nbformat_minor": 0
}